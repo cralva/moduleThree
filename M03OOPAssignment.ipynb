{
 "cells": [
  {
   "cell_type": "markdown",
   "id": "6b66b44a",
   "metadata": {},
   "source": [
    "# OOP"
   ]
  },
  {
   "cell_type": "code",
   "execution_count": null,
   "id": "a708bdc7",
   "metadata": {
    "vscode": {
     "languageId": "plaintext"
    }
   },
   "outputs": [],
   "source": [
    "// Function to sort an array of 0s, 1s, and 2s\n",
    "void sort012(int arr[], int n) {\n",
    "    int low = 0, mid = 0, high = n - 1;\n",
    "    \n",
    "    while (mid <= high) {\n",
    "        switch (arr[mid]) {\n",
    "            case 0:\n",
    "                // Swap arr[low] and arr[mid], then move both pointers forward\n",
    "                {\n",
    "                    int temp = arr[low];\n",
    "                    arr[low] = arr[mid];\n",
    "                    arr[mid] = temp;\n",
    "                    low++;\n",
    "                    mid++;\n",
    "                }\n",
    "                break;\n",
    "            case 1:\n",
    "                // Just move mid\n",
    "                mid++;\n",
    "                break;\n",
    "            case 2:\n",
    "                // Swap arr[mid] and arr[high], move high back\n",
    "                {\n",
    "                    int temp = arr[mid];\n",
    "                    arr[mid] = arr[high];\n",
    "                    arr[high] = temp;\n",
    "                    high--;\n",
    "                }\n",
    "                break;\n",
    "        }\n",
    "    }\n",
    "}"
   ]
  },
  {
   "cell_type": "markdown",
   "id": "ab402128",
   "metadata": {},
   "source": [
    "# Binary"
   ]
  },
  {
   "cell_type": "code",
   "execution_count": null,
   "id": "e06d4364",
   "metadata": {
    "vscode": {
     "languageId": "plaintext"
    }
   },
   "outputs": [],
   "source": [
    "class Solution {\n",
    "public:\n",
    "    int binarysearch(vector<int>& arr, int k) {\n",
    "        int low = 0, high = arr.size() - 1;\n",
    "        int result = -1;\n",
    "\n",
    "        while (low <= high) {\n",
    "            int mid = low + (high - low) / 2;\n",
    "\n",
    "            if (arr[mid] == k) {\n",
    "                result = mid;      // Store index in case it's the first occurrence\n",
    "                high = mid - 1;    // Keep searching to the left\n",
    "            }\n",
    "            else if (arr[mid] < k) {\n",
    "                low = mid + 1;\n",
    "            }\n",
    "            else {\n",
    "                high = mid - 1;\n",
    "            }\n",
    "        }\n",
    "\n",
    "        return result;\n",
    "    }\n",
    "};"
   ]
  }
 ],
 "metadata": {
  "language_info": {
   "name": "python"
  }
 },
 "nbformat": 4,
 "nbformat_minor": 5
}
