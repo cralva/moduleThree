{
 "cells": [
  {
   "cell_type": "markdown",
   "id": "b4efd907",
   "metadata": {},
   "source": [
    "# Functions (void)"
   ]
  },
  {
   "cell_type": "markdown",
   "id": "c4582b34",
   "metadata": {},
   "source": [
    "- all the descriptors and definitions of functions.\n",
    "- functions take data in, transforms it, and output a result\n",
    "- functions are considered actions -> verb\n",
    "- SDEV defintion -> functions are blocks of code that can be repeated when its name is called. it can have data passed to it\n",
    "and *can* return data as a result.\n",
    "\n",
    "- so far we have used functions already ie the print and input function\n",
    "- if we want to make a \"custom\" function or defined function, we need to define or create it\n",
    "- in python we call our own custom function \"defined function\"\n",
    "\n",
    "- two step process to using functions\n",
    "1. defining part\n",
    "    - defining a function is creating it to be used later on\n",
    "    - to define a function, use the keyword def followed by the function name and parentheses\n",
    "    def functionName():\n",
    "    - functions can just be a summary of statements that do not return value. These are called Void Functions\n",
    "2. Call or use the function"
   ]
  },
  {
   "cell_type": "code",
   "execution_count": null,
   "id": "47b810a5",
   "metadata": {},
   "outputs": [],
   "source": [
    "#void function (part 1) example: take two numbers and add these together. Code that belongs to a function\n",
    "\n",
    "def myFunction():\n",
    "    x = 6\n",
    "    y = 4\n",
    "    sum = x + y\n",
    "    print(sum)\n",
    "# we still have to call it for the function to work. If we run it now then nothing is going to happen\n",
    "# to call or use the function, just type the function name followed by parentheses\n",
    "myFunction() # this is all we have to do to call the function and we can do it as many times as we like and this is all we have to do\n",
    "myFunction()\n",
    "myFunction()\n",
    "myFunction()\n",
    "\n",
    "# pass data to a function -> this is called a \"parameters\"\n",
    "# parameters: the variables that are passed to the function\n",
    "# parameter is just an arguement that we have not used yet, or a defined argument\n",
    "# the terms argument and parameter can be used interchangeably\n",
    "# parameters are defined in the parentheses of the function definition\n",
    "# passing data -> give the function some outside data, and then perform actions on that data\n",
    "# we can pass data in any form of the types we have talked about before (int, float, string, list, tuple, dictionary)\n",
    "# we can also pass functions as data to other functions (functions as first class citizens)\n",
    "\n",
    "def display_number(my_number): #my_number is the parameter. We can name parameters anything that we want. Parameters are just placeholders for data\n",
    "    print(my_number)\n",
    "\n",
    "display_number(549)\n",
    "numb = 50\n",
    "display_number(numb)\n",
    "\n",
    "#multiple paramenters, seperate commas and the order matters\n",
    "def add_two_numbers(num1, num2):\n",
    "    sum = num1 + num2\n",
    "    print(sum)\n",
    "\n",
    "add_two_numbers(50, 100)\n",
    "\n",
    "def divide_two_numbers(num1, num2):\n",
    "    quotient = num1 / num2\n",
    "    print(quotient)\n",
    "\n",
    "divide_two_numbers(50, 2) # order here matters more than in the sum function since we are dividing. Division is not associative\n",
    "divide_two_numbers(2, 50)"
   ]
  },
  {
   "cell_type": "markdown",
   "id": "b09bf4a3",
   "metadata": {},
   "source": [
    "# Return Functions"
   ]
  },
  {
   "cell_type": "code",
   "execution_count": null,
   "id": "58cb0df6",
   "metadata": {},
   "outputs": [],
   "source": [
    "#example youtube bucky\n",
    "\n",
    "def allowed_dating_age(my_age):\n",
    "    girls_age = my_age / 2 + 7\n",
    "    return girls_age\n",
    "\n",
    "my_limit = allowed_dating_age(27) #it wont print without the print function or store it into a variable and then printing it that way\n",
    "print(f'{my_limit} is the absolutely youngest you can date you weirdo')\n",
    "\n",
    "# want to do this for someone else\n",
    "dale_limit = allowed_dating_age(47)\n",
    "print(f'{dale_limit} is the youngest you can date')"
   ]
  },
  {
   "cell_type": "code",
   "execution_count": null,
   "id": "5783cf60",
   "metadata": {},
   "outputs": [],
   "source": [
    "#more examples youtube bucky USING DEFAULT VALUES\n",
    "\n",
    "def get_gender(sex=\"Unknown\"):\n",
    "    if sex == \"m\":\n",
    "        sex = \"Male\"\n",
    "    elif sex == \"f\":\n",
    "        sex = \"Female\"\n",
    "    print(sex)\n",
    "\n",
    "get_gender(\"m\")\n",
    "get_gender(\"f\")\n",
    "get_gender()\n",
    "\n"
   ]
  },
  {
   "cell_type": "markdown",
   "id": "1a2e0597",
   "metadata": {},
   "source": [
    "# Variable scope"
   ]
  },
  {
   "cell_type": "code",
   "execution_count": null,
   "id": "23ea0739",
   "metadata": {},
   "outputs": [],
   "source": [
    "# bucky examples\n",
    "a = 2016\n",
    "#functions can use this variable because it is outside of the function and above it\n",
    "def corn():\n",
    "    print(a)\n",
    "def spice():\n",
    "    print(a)\n",
    "corn()\n",
    "spice()"
   ]
  },
  {
   "cell_type": "code",
   "execution_count": null,
   "id": "196ca4d2",
   "metadata": {},
   "outputs": [],
   "source": [
    "#bucky examples\n",
    "# if we put a inside of one function then it will only work in the function that we put it in and the other one would not work\n",
    "def corn():\n",
    "    a = 2016\n",
    "    print(a)\n",
    "def spice():\n",
    "    print(a)\n",
    "corn()\n",
    "spice()\n",
    "\n",
    "# this shouldnt work. if it was a .py file there would be an error since a is local to corn()"
   ]
  },
  {
   "cell_type": "markdown",
   "id": "582f3d7e",
   "metadata": {},
   "source": [
    "# Return functions Ivy Tech Lecture"
   ]
  },
  {
   "cell_type": "markdown",
   "id": "77b395f4",
   "metadata": {},
   "source": [
    "- fucntions can also return value\n",
    "- return value: the value that is returned from the function\n",
    "- we use the keyword return to do so\n",
    "- we can return into a value or another function"
   ]
  },
  {
   "cell_type": "code",
   "execution_count": null,
   "id": "35e3258e",
   "metadata": {},
   "outputs": [
    {
     "name": "stdout",
     "output_type": "stream",
     "text": [
      "16.75\n",
      "Your total with tax is: 66.0\n",
      "Your total with tax is: 57.2\n"
     ]
    }
   ],
   "source": [
    "# adding items we bought for a total\n",
    "def add_items(item1, item2, item3):\n",
    "    total = item1 + item2 + item3\n",
    "    return total\n",
    "#a return function must return value into something else\n",
    "#in this case it is a variable\n",
    "my_total = add_items(8, 5.50, 3.25)\n",
    "print(my_total)\n",
    "\n",
    "#chaining return functions\n",
    "#this function takes in an amount and returns the amount with tax\n",
    "def add_tax(total):\n",
    "    tax = total * .10\n",
    "    total_with_tax = total + tax\n",
    "    print(f'Your total with tax is: {total_with_tax}')\n",
    "\n",
    "#without chaining\n",
    "my_total2 = add_items(10, 20, 30)\n",
    "add_tax(my_total2)\n",
    "\n",
    "#chain to make easier. chaining works because the return value is a number\n",
    "add_tax(add_items(10, 20, 22)) #Python always evaluates the innermost function first, then works outward."
   ]
  }
 ],
 "metadata": {
  "kernelspec": {
   "display_name": "Python 3",
   "language": "python",
   "name": "python3"
  },
  "language_info": {
   "codemirror_mode": {
    "name": "ipython",
    "version": 3
   },
   "file_extension": ".py",
   "mimetype": "text/x-python",
   "name": "python",
   "nbconvert_exporter": "python",
   "pygments_lexer": "ipython3",
   "version": "3.13.1"
  }
 },
 "nbformat": 4,
 "nbformat_minor": 5
}
